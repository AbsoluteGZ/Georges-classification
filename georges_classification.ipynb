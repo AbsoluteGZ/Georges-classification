{
  "cells": [
    {
      "cell_type": "markdown",
      "metadata": {
        "id": "hsu_FYvjRJQ3"
      },
      "source": [
        "# Импорт библиотек"
      ]
    },
    {
      "cell_type": "code",
      "execution_count": 1,
      "metadata": {
        "id": "fIYkTOehRJQ4"
      },
      "outputs": [],
      "source": [
        "import os\n",
        "import random\n",
        "import requests\n",
        "import gdown\n",
        "import numpy as np\n",
        "import pandas as pd\n",
        "\n",
        "import tensorflow as tf\n",
        "from tensorflow.keras.layers import Input, Dense, Dropout, GlobalAveragePooling2D\n",
        "from tensorflow.keras.models import Model\n",
        "from tensorflow.keras.applications import EfficientNetV2S\n",
        "from tensorflow.keras.optimizers import Adam\n",
        "from tensorflow.keras.losses import SparseCategoricalCrossentropy\n",
        "from tensorflow.keras.metrics import SparseCategoricalAccuracy\n",
        "from sklearn.metrics import precision_score, recall_score, f1_score, roc_auc_score, confusion_matrix\n",
        "from sklearn.model_selection import train_test_split\n",
        "from sklearn.utils.class_weight import compute_class_weight\n",
        "\n",
        "from PIL import Image\n",
        "import matplotlib.pyplot as plt\n",
        "import seaborn as sns"
      ]
    },
    {
      "cell_type": "markdown",
      "metadata": {
        "id": "Y8ob0fL9RJQ5"
      },
      "source": [
        "# Параметры"
      ]
    },
    {
      "cell_type": "code",
      "execution_count": 2,
      "metadata": {
        "id": "K8BH0Ew0RJQ5"
      },
      "outputs": [],
      "source": [
        "num_epochs = 10\n",
        "img_height = 300\n",
        "img_width = 224\n",
        "random_seed = 42\n",
        "num_classes = 2\n",
        "batch_size = 32"
      ]
    },
    {
      "cell_type": "code",
      "execution_count": 3,
      "metadata": {
        "colab": {
          "base_uri": "https://localhost:8080/"
        },
        "id": "HgYvwR59RJQ5",
        "outputId": "241fe6d4-d9b6-4770-c15f-000e69cb021a"
      },
      "outputs": [
        {
          "output_type": "stream",
          "name": "stdout",
          "text": [
            "Текущий seed: 42\n"
          ]
        }
      ],
      "source": [
        "random.seed(random_seed)\n",
        "np.random.seed(random_seed)\n",
        "tf.random.set_seed(random_seed)\n",
        "os.environ[\"PYTHONHASHSEED\"] = str(random_seed)\n",
        "print(f\"Текущий seed: {random_seed}\")"
      ]
    },
    {
      "cell_type": "markdown",
      "metadata": {
        "id": "TInQ5rGbRJQ6"
      },
      "source": [
        "# Загрузка данных"
      ]
    },
    {
      "cell_type": "code",
      "source": [
        "OUTPUT_FOLDER = \"/content\"\n",
        "gdown.download_folder('https://drive.google.com/drive/folders/1hXAjwpBj6shfWd1taWMFpSqelFCzi6KJ', output=OUTPUT_FOLDER)"
      ],
      "metadata": {
        "colab": {
          "base_uri": "https://localhost:8080/"
        },
        "id": "-WUGvMjunUru",
        "outputId": "b20bf8b9-f716-4543-a7d9-67399a1cbd99"
      },
      "execution_count": 4,
      "outputs": [
        {
          "output_type": "stream",
          "name": "stderr",
          "text": [
            "Retrieving folder contents\n"
          ]
        },
        {
          "output_type": "stream",
          "name": "stdout",
          "text": [
            "Processing file 1585FWwha2MJGWyRvKmLRxmqblvmsjSq3 georges.csv\n",
            "Processing file 1XjTxMwfcSAZJIlcw2cZzVy1UzUCzIoID non_georges.csv\n",
            "Processing file 1o54Y1wmjgY5K61ucZ4Q2FZbz-IWQvFJO project_boilerplate.zip\n"
          ]
        },
        {
          "output_type": "stream",
          "name": "stderr",
          "text": [
            "Retrieving folder contents completed\n",
            "Building directory structure\n",
            "Building directory structure completed\n",
            "Downloading...\n",
            "From: https://drive.google.com/uc?id=1585FWwha2MJGWyRvKmLRxmqblvmsjSq3\n",
            "To: /content/georges.csv\n",
            "100%|██████████| 196k/196k [00:00<00:00, 5.15MB/s]\n",
            "Downloading...\n",
            "From: https://drive.google.com/uc?id=1XjTxMwfcSAZJIlcw2cZzVy1UzUCzIoID\n",
            "To: /content/non_georges.csv\n",
            "100%|██████████| 246k/246k [00:00<00:00, 4.55MB/s]\n",
            "Downloading...\n",
            "From: https://drive.google.com/uc?id=1o54Y1wmjgY5K61ucZ4Q2FZbz-IWQvFJO\n",
            "To: /content/project_boilerplate.zip\n",
            "100%|██████████| 32.3k/32.3k [00:00<00:00, 25.4MB/s]\n",
            "Download completed\n"
          ]
        },
        {
          "output_type": "execute_result",
          "data": {
            "text/plain": [
              "['/content/georges.csv',\n",
              " '/content/non_georges.csv',\n",
              " '/content/project_boilerplate.zip']"
            ]
          },
          "metadata": {},
          "execution_count": 4
        }
      ]
    },
    {
      "cell_type": "code",
      "execution_count": 4,
      "metadata": {
        "id": "_34fIbWhRJQ6"
      },
      "outputs": [],
      "source": [
        "georges_file = \"georges.csv\"\n",
        "non_georges_file = \"non_georges.csv\"\n",
        "\n",
        "georges_folder = \"georges_images\"\n",
        "non_georges_folder = \"non_georges_images\""
      ]
    },
    {
      "cell_type": "code",
      "execution_count": 5,
      "metadata": {
        "id": "hqXr8hVKRJQ6"
      },
      "outputs": [],
      "source": [
        "os.makedirs(georges_folder, exist_ok=True)\n",
        "os.makedirs(non_georges_folder, exist_ok=True)"
      ]
    },
    {
      "cell_type": "code",
      "execution_count": 7,
      "metadata": {
        "id": "zUr06KeFRJQ6"
      },
      "outputs": [],
      "source": [
        "def download_image(url, filename):\n",
        "    try:\n",
        "        response = requests.get(url, stream=True)\n",
        "        response.raise_for_status()\n",
        "        with open(filename, 'wb') as f:\n",
        "            for chunk in response.iter_content(chunk_size=8192):\n",
        "                f.write(chunk)\n",
        "        return True\n",
        "    except requests.exceptions.RequestException as e:\n",
        "        print(f\"Ошибка при скачивании {url}: {e}\")\n",
        "        return False\n",
        "\n",
        "\n",
        "def download_images_from_csv(csv_file, output_folder):\n",
        "    df = pd.read_csv(csv_file, header=None)\n",
        "    links = df[0].tolist()\n",
        "\n",
        "    for i, link in enumerate(links):\n",
        "        filename = os.path.join(output_folder, f\"image_{i}.jpg\")\n",
        "        if not os.path.exists(filename):\n",
        "            if not download_image(link, filename):\n",
        "                print(f\"Не удалось скачать изображение {link}\")"
      ]
    },
    {
      "cell_type": "code",
      "execution_count": 8,
      "metadata": {
        "id": "hZ8l97C_RJQ6",
        "colab": {
          "base_uri": "https://localhost:8080/"
        },
        "outputId": "cd14d3cd-44d5-44ec-e645-b75ffdaf3297"
      },
      "outputs": [
        {
          "output_type": "stream",
          "name": "stdout",
          "text": [
            "Загрузка изображений с Георгием...\n"
          ]
        }
      ],
      "source": [
        "print(\"Загрузка изображений с Георгием...\")\n",
        "download_images_from_csv(georges_file, georges_folder)"
      ]
    },
    {
      "cell_type": "code",
      "source": [
        "print(\"Загрузка изображений без Георгия...\")\n",
        "download_images_from_csv(non_georges_file, non_georges_folder)"
      ],
      "metadata": {
        "colab": {
          "base_uri": "https://localhost:8080/"
        },
        "id": "pjm8ladsr8of",
        "outputId": "ccd930c3-7190-4b3b-801b-8a637b153d52"
      },
      "execution_count": 9,
      "outputs": [
        {
          "output_type": "stream",
          "name": "stdout",
          "text": [
            "Загрузка изображений без Георгия...\n"
          ]
        }
      ]
    },
    {
      "cell_type": "markdown",
      "metadata": {
        "id": "Su3i2r6CRJQ7"
      },
      "source": [
        "# Работа с данными"
      ]
    },
    {
      "cell_type": "markdown",
      "metadata": {
        "id": "ogp-2uwLRJQ7"
      },
      "source": [
        "## Исследование"
      ]
    },
    {
      "cell_type": "code",
      "execution_count": null,
      "metadata": {
        "id": "4TdxRiHyRJQ7"
      },
      "outputs": [],
      "source": [
        "# Визуализация 5 изображений каждого класса\n",
        "def visualize_images(georges_folder, non_georges_folder):\n",
        "    georges_images = os.listdir(georges_folder)[:5]\n",
        "    non_georges_images = os.listdir(non_georges_folder)[:5]\n",
        "\n",
        "    plt.figure(figsize=(10, 5))\n",
        "\n",
        "    for i, img_file in enumerate(georges_images):\n",
        "        img_path = os.path.join(georges_folder, img_file)\n",
        "        img = Image.open(img_path)\n",
        "        plt.subplot(2, 5, i + 1)\n",
        "        plt.imshow(img)\n",
        "        plt.axis('off')\n",
        "        plt.title(\"Георгий\")\n",
        "\n",
        "    for i, img_file in enumerate(non_georges_images):\n",
        "        img_path = os.path.join(non_georges_folder, img_file)\n",
        "        img = Image.open(img_path)\n",
        "        plt.subplot(2, 5, i + 6)\n",
        "        plt.imshow(img)\n",
        "        plt.axis('off')\n",
        "        plt.title(\"Не Георгий\")\n",
        "\n",
        "    plt.tight_layout()\n",
        "    plt.show()\n",
        "\n",
        "visualize_images(georges_folder, non_georges_folder)"
      ]
    },
    {
      "cell_type": "code",
      "execution_count": 7,
      "metadata": {
        "colab": {
          "base_uri": "https://localhost:8080/"
        },
        "id": "ySxeuNaVRJQ7",
        "outputId": "547a977f-6ace-429e-81b9-7e8a50e9c999"
      },
      "outputs": [
        {
          "output_type": "stream",
          "name": "stdout",
          "text": [
            "Количество изображений с Георгием: 2681\n",
            "Количество изображений без Георгия: 3366\n"
          ]
        }
      ],
      "source": [
        "num_georges = len(os.listdir(georges_folder))\n",
        "num_non_georges = len(os.listdir(non_georges_folder))\n",
        "\n",
        "print(f\"Количество изображений с Георгием: {num_georges}\")\n",
        "print(f\"Количество изображений без Георгия: {num_non_georges}\")"
      ]
    },
    {
      "cell_type": "markdown",
      "metadata": {
        "id": "Kk_BvoHiRJQ7"
      },
      "source": [
        "## Преобразование данных"
      ]
    },
    {
      "cell_type": "code",
      "execution_count": 8,
      "metadata": {
        "id": "1DsnBqgORJQ7"
      },
      "outputs": [],
      "source": [
        "def load_and_preprocess_image(image_path, label):\n",
        "    img = tf.io.read_file(image_path)\n",
        "    img = tf.image.decode_jpeg(img, channels=3)\n",
        "    img = tf.image.resize(img, [img_height, img_width])\n",
        "\n",
        "    return img, label\n",
        "\n",
        "def create_dataset(georges_folder, non_georges_folder, train=True):\n",
        "    image_paths = []\n",
        "    labels = []\n",
        "\n",
        "    for img in os.listdir(georges_folder):\n",
        "        image_paths.append(os.path.join(georges_folder, img))\n",
        "        labels.append(1)  # Георгий Победоносец\n",
        "\n",
        "    for img in os.listdir(non_georges_folder):\n",
        "        image_paths.append(os.path.join(non_georges_folder, img))\n",
        "        labels.append(0)  # Не Георгий\n",
        "\n",
        "    image_paths = np.array(image_paths)\n",
        "    labels = np.array(labels)\n",
        "\n",
        "    return image_paths, labels"
      ]
    },
    {
      "cell_type": "code",
      "execution_count": 9,
      "metadata": {
        "id": "R47EI5QeRJQ7"
      },
      "outputs": [],
      "source": [
        "all_image_paths, all_labels = create_dataset(georges_folder, non_georges_folder)\n",
        "train_paths, test_paths, train_labels, test_labels = train_test_split(\n",
        "    all_image_paths, all_labels, test_size=0.2, random_state=random_seed, stratify=all_labels\n",
        ")\n",
        "\n",
        "val_paths, test_paths, val_labels, test_labels = train_test_split(\n",
        "    test_paths, test_labels, test_size=0.5, random_state=random_seed, stratify=test_labels\n",
        ")"
      ]
    },
    {
      "cell_type": "code",
      "source": [
        "def augment_data(image, label):\n",
        "    image = tf.image.random_brightness(image, max_delta=0.2)\n",
        "    image = tf.image.random_contrast(image, lower=0.8, upper=1.2)\n",
        "    image = tf.image.random_flip_left_right(image)\n",
        "    image = tf.clip_by_value(image, 0.0, 255.0)\n",
        "\n",
        "    image = image / 255.0\n",
        "\n",
        "    return image, label"
      ],
      "metadata": {
        "id": "lhjUN40SoIyr"
      },
      "execution_count": 10,
      "outputs": []
    },
    {
      "cell_type": "code",
      "source": [
        "train_ds = tf.data.Dataset.from_tensor_slices((train_paths, train_labels))\n",
        "train_ds = train_ds.map(load_and_preprocess_image, num_parallel_calls=tf.data.AUTOTUNE)\n",
        "train_ds = train_ds.map(augment_data, num_parallel_calls=tf.data.AUTOTUNE)\n",
        "train_ds = train_ds.batch(batch_size).prefetch(tf.data.AUTOTUNE)\n",
        "\n",
        "\n",
        "val_ds = tf.data.Dataset.from_tensor_slices((val_paths, val_labels))\n",
        "val_ds = val_ds.map(load_and_preprocess_image, num_parallel_calls=tf.data.AUTOTUNE)\n",
        "val_ds = val_ds.map(lambda image, label: (image / 255.0, label))\n",
        "val_ds = val_ds.batch(batch_size).prefetch(tf.data.AUTOTUNE)\n",
        "\n",
        "test_ds = tf.data.Dataset.from_tensor_slices((test_paths, test_labels))\n",
        "test_ds = test_ds.map(load_and_preprocess_image, num_parallel_calls=tf.data.AUTOTUNE)\n",
        "test_ds = test_ds.map(lambda image, label: (image / 255.0, label))\n",
        "test_ds = test_ds.batch(batch_size).prefetch(tf.data.AUTOTUNE)"
      ],
      "metadata": {
        "id": "ozkN0EV1t9Rf"
      },
      "execution_count": 11,
      "outputs": []
    },
    {
      "cell_type": "markdown",
      "metadata": {
        "id": "glLeSlL8RJQ8"
      },
      "source": [
        "# Обучение"
      ]
    },
    {
      "cell_type": "markdown",
      "metadata": {
        "id": "b8ukoiG7RJQ8"
      },
      "source": [
        "## Подготовка модели"
      ]
    },
    {
      "cell_type": "code",
      "source": [
        "def create_model(num_classes=2):\n",
        "    base_model = EfficientNetV2S(weights='imagenet', include_top=False, input_shape=(img_height, img_width, 3))\n",
        "\n",
        "    # Разморозка нескольких слоев\n",
        "    for layer in base_model.layers[-20:]:\n",
        "        layer.trainable = True\n",
        "\n",
        "    inputs = Input(shape=(img_height, img_width, 3))\n",
        "    x = base_model(inputs)\n",
        "    x = GlobalAveragePooling2D()(x)\n",
        "    x = Dropout(0.2)(x)\n",
        "    outputs = Dense(num_classes, activation='softmax')(x)\n",
        "\n",
        "    model = Model(inputs, outputs)\n",
        "    return model\n",
        "\n",
        "model = create_model(num_classes=num_classes)"
      ],
      "metadata": {
        "id": "tecMinFIuHNt"
      },
      "execution_count": 12,
      "outputs": []
    },
    {
      "cell_type": "code",
      "source": [
        "optimizer = Adam(learning_rate=0.001)\n",
        "loss_fn = SparseCategoricalCrossentropy()\n",
        "metrics = [SparseCategoricalAccuracy()]\n",
        "\n",
        "model.compile(optimizer=optimizer, loss=loss_fn, metrics=metrics)"
      ],
      "metadata": {
        "id": "JnANdjEauIsO"
      },
      "execution_count": 13,
      "outputs": []
    },
    {
      "cell_type": "code",
      "source": [
        "# Подсчет весов\n",
        "class_weights = compute_class_weight('balanced', classes=np.unique(train_labels), y=train_labels)\n",
        "class_weight_dict = dict(enumerate(class_weights))"
      ],
      "metadata": {
        "id": "FMp8ZAJtuKN3"
      },
      "execution_count": 14,
      "outputs": []
    },
    {
      "cell_type": "markdown",
      "source": [
        "## Обучение модели"
      ],
      "metadata": {
        "id": "Xmd4jOqmZ_GM"
      }
    },
    {
      "cell_type": "code",
      "source": [
        "history = model.fit(train_ds,\n",
        "                    validation_data=val_ds,\n",
        "                    epochs=num_epochs,\n",
        "                    class_weight=class_weight_dict,\n",
        "                    verbose=1)"
      ],
      "metadata": {
        "colab": {
          "base_uri": "https://localhost:8080/"
        },
        "id": "R_YuW95duPwX",
        "outputId": "98c6ea88-fa57-48fa-d258-a2c9d03a09f1"
      },
      "execution_count": 15,
      "outputs": [
        {
          "output_type": "stream",
          "name": "stdout",
          "text": [
            "Epoch 1/10\n",
            "\u001b[1m152/152\u001b[0m \u001b[32m━━━━━━━━━━━━━━━━━━━━\u001b[0m\u001b[37m\u001b[0m \u001b[1m379s\u001b[0m 1s/step - loss: 0.4584 - sparse_categorical_accuracy: 0.7745 - val_loss: 0.5291 - val_sparse_categorical_accuracy: 0.7752\n",
            "Epoch 2/10\n",
            "\u001b[1m152/152\u001b[0m \u001b[32m━━━━━━━━━━━━━━━━━━━━\u001b[0m\u001b[37m\u001b[0m \u001b[1m104s\u001b[0m 451ms/step - loss: 0.2797 - sparse_categorical_accuracy: 0.8850 - val_loss: 0.8046 - val_sparse_categorical_accuracy: 0.5570\n",
            "Epoch 3/10\n",
            "\u001b[1m152/152\u001b[0m \u001b[32m━━━━━━━━━━━━━━━━━━━━\u001b[0m\u001b[37m\u001b[0m \u001b[1m69s\u001b[0m 452ms/step - loss: 0.2007 - sparse_categorical_accuracy: 0.9212 - val_loss: 3.2809 - val_sparse_categorical_accuracy: 0.4545\n",
            "Epoch 4/10\n",
            "\u001b[1m152/152\u001b[0m \u001b[32m━━━━━━━━━━━━━━━━━━━━\u001b[0m\u001b[37m\u001b[0m \u001b[1m84s\u001b[0m 465ms/step - loss: 0.1651 - sparse_categorical_accuracy: 0.9326 - val_loss: 0.5543 - val_sparse_categorical_accuracy: 0.7802\n",
            "Epoch 5/10\n",
            "\u001b[1m152/152\u001b[0m \u001b[32m━━━━━━━━━━━━━━━━━━━━\u001b[0m\u001b[37m\u001b[0m \u001b[1m82s\u001b[0m 466ms/step - loss: 0.1487 - sparse_categorical_accuracy: 0.9426 - val_loss: 1.0196 - val_sparse_categorical_accuracy: 0.5570\n",
            "Epoch 6/10\n",
            "\u001b[1m152/152\u001b[0m \u001b[32m━━━━━━━━━━━━━━━━━━━━\u001b[0m\u001b[37m\u001b[0m \u001b[1m82s\u001b[0m 464ms/step - loss: 0.1024 - sparse_categorical_accuracy: 0.9627 - val_loss: 0.6688 - val_sparse_categorical_accuracy: 0.6959\n",
            "Epoch 7/10\n",
            "\u001b[1m152/152\u001b[0m \u001b[32m━━━━━━━━━━━━━━━━━━━━\u001b[0m\u001b[37m\u001b[0m \u001b[1m82s\u001b[0m 463ms/step - loss: 0.0758 - sparse_categorical_accuracy: 0.9749 - val_loss: 0.4020 - val_sparse_categorical_accuracy: 0.8545\n",
            "Epoch 8/10\n",
            "\u001b[1m152/152\u001b[0m \u001b[32m━━━━━━━━━━━━━━━━━━━━\u001b[0m\u001b[37m\u001b[0m \u001b[1m81s\u001b[0m 460ms/step - loss: 0.0964 - sparse_categorical_accuracy: 0.9632 - val_loss: 0.7653 - val_sparse_categorical_accuracy: 0.6347\n",
            "Epoch 9/10\n",
            "\u001b[1m152/152\u001b[0m \u001b[32m━━━━━━━━━━━━━━━━━━━━\u001b[0m\u001b[37m\u001b[0m \u001b[1m81s\u001b[0m 455ms/step - loss: 0.0771 - sparse_categorical_accuracy: 0.9718 - val_loss: 0.6618 - val_sparse_categorical_accuracy: 0.6760\n",
            "Epoch 10/10\n",
            "\u001b[1m152/152\u001b[0m \u001b[32m━━━━━━━━━━━━━━━━━━━━\u001b[0m\u001b[37m\u001b[0m \u001b[1m70s\u001b[0m 459ms/step - loss: 0.0628 - sparse_categorical_accuracy: 0.9781 - val_loss: 0.6661 - val_sparse_categorical_accuracy: 0.8033\n"
          ]
        }
      ]
    },
    {
      "cell_type": "code",
      "source": [
        "# Проверка модели\n",
        "test_loss, test_accuracy = model.evaluate(test_ds)\n",
        "print(f\"Test Loss: {test_loss:.4f}, Test Accuracy: {test_accuracy:.4f}\")"
      ],
      "metadata": {
        "id": "oM3FjarZuRry",
        "colab": {
          "base_uri": "https://localhost:8080/"
        },
        "outputId": "ce57653a-352d-48bb-8150-a74ad49cb654"
      },
      "execution_count": 16,
      "outputs": [
        {
          "output_type": "stream",
          "name": "stdout",
          "text": [
            "\u001b[1m19/19\u001b[0m \u001b[32m━━━━━━━━━━━━━━━━━━━━\u001b[0m\u001b[37m\u001b[0m \u001b[1m4s\u001b[0m 203ms/step - loss: 0.6860 - sparse_categorical_accuracy: 0.7553\n",
            "Test Loss: 0.6450, Test Accuracy: 0.7702\n"
          ]
        }
      ]
    },
    {
      "cell_type": "markdown",
      "source": [
        "# Метрики и графики"
      ],
      "metadata": {
        "id": "V20Ysjd5aFsV"
      }
    },
    {
      "cell_type": "code",
      "source": [
        "y_pred_probs = model.predict(test_ds)\n",
        "y_pred = np.argmax(y_pred_probs, axis=1)\n",
        "\n",
        "precision = precision_score(test_labels, y_pred)\n",
        "recall = recall_score(test_labels, y_pred)\n",
        "f1 = f1_score(test_labels, y_pred)\n",
        "\n",
        "y_pred_positive_class = tf.nn.softmax(y_pred_probs)[:, 1]\n",
        "roc_auc = roc_auc_score(test_labels, y_pred_positive_class)"
      ],
      "metadata": {
        "id": "PcbOUADWuS-s",
        "colab": {
          "base_uri": "https://localhost:8080/"
        },
        "outputId": "bd2c59c6-f598-492b-c808-ae31b81451b7"
      },
      "execution_count": 17,
      "outputs": [
        {
          "output_type": "stream",
          "name": "stdout",
          "text": [
            "\u001b[1m19/19\u001b[0m \u001b[32m━━━━━━━━━━━━━━━━━━━━\u001b[0m\u001b[37m\u001b[0m \u001b[1m25s\u001b[0m 766ms/step\n"
          ]
        }
      ]
    },
    {
      "cell_type": "code",
      "source": [
        "print(f\"Accuracy: {test_accuracy:.4f}\")\n",
        "print(f\"Precision: {precision:.4f}\")\n",
        "print(f\"Recall: {recall:.4f}\")\n",
        "print(f\"F1 Score: {f1:.4f}\")\n",
        "print(f\"ROC AUC: {roc_auc:.4f}\")"
      ],
      "metadata": {
        "id": "L04gbiJUuXFg",
        "colab": {
          "base_uri": "https://localhost:8080/"
        },
        "outputId": "87e4c63d-9f7a-49d5-e304-832d8dc44493"
      },
      "execution_count": 18,
      "outputs": [
        {
          "output_type": "stream",
          "name": "stdout",
          "text": [
            "Accuracy: 0.7702\n",
            "Precision: 0.7022\n",
            "Recall: 0.8358\n",
            "F1 Score: 0.7632\n",
            "ROC AUC: 0.8771\n"
          ]
        }
      ]
    },
    {
      "cell_type": "code",
      "source": [
        "plt.figure(figsize=(12, 4))\n",
        "\n",
        "plt.subplot(1, 2, 1)\n",
        "plt.plot(history.history['loss'], label='Train Loss')\n",
        "plt.plot(history.history['val_loss'], label='Validation Loss')\n",
        "plt.xlabel('Epoch')\n",
        "plt.ylabel('Loss')\n",
        "plt.legend()\n",
        "\n",
        "plt.subplot(1, 2, 2)\n",
        "plt.plot(history.history['sparse_categorical_accuracy'], label='Train Accuracy')\n",
        "plt.plot(history.history['val_sparse_categorical_accuracy'], label='Validation Accuracy')\n",
        "plt.xlabel('Epoch')\n",
        "plt.ylabel('Accuracy')\n",
        "plt.legend()\n",
        "\n",
        "plt.tight_layout()\n",
        "plt.show()"
      ],
      "metadata": {
        "id": "HNJvACwcucrs",
        "colab": {
          "base_uri": "https://localhost:8080/",
          "height": 406
        },
        "outputId": "646a2054-822e-449b-dbae-d0ca1813614a"
      },
      "execution_count": 19,
      "outputs": [
        {
          "output_type": "display_data",
          "data": {
            "text/plain": [
              "<Figure size 1200x400 with 2 Axes>"
            ],
            "image/png": "[encoded data removed]"
          },
          "metadata": {}
        }
      ]
    },
    {
      "cell_type": "code",
      "source": [
        "cm = confusion_matrix(test_labels, y_pred)\n",
        "plt.figure(figsize=(8, 6))\n",
        "sns.heatmap(cm, annot=True, fmt=\"d\", cmap=\"Blues\",\n",
        "            xticklabels=[\"Non-George\", \"George\"],\n",
        "            yticklabels=[\"Non-George\", \"George\"])\n",
        "plt.xlabel(\"Predicted\")\n",
        "plt.ylabel(\"Actual\")\n",
        "plt.title(\"Confusion Matrix\")\n",
        "plt.show()"
      ],
      "metadata": {
        "id": "tcxD0aBcudDB",
        "colab": {
          "base_uri": "https://localhost:8080/",
          "height": 564
        },
        "outputId": "8a63bb88-b261-4d71-9ac4-9a243c7e4c07"
      },
      "execution_count": 20,
      "outputs": [
        {
          "output_type": "display_data",
          "data": {
            "text/plain": [
              "<Figure size 800x600 with 2 Axes>"
            ],
            "image/png": "[encoded data removed]"
          },
          "metadata": {}
        }
      ]
    }
  ],
  "metadata": {
    "kernelspec": {
      "display_name": "Python 3",
      "name": "python3"
    },
    "language_info": {
      "name": "python",
      "version": "3.11.9"
    },
    "colab": {
      "provenance": [],
      "collapsed_sections": [
        "ogp-2uwLRJQ7"
      ],
      "gpuType": "T4"
    },
    "accelerator": "GPU"
  },
  "nbformat": 4,
  "nbformat_minor": 0
}